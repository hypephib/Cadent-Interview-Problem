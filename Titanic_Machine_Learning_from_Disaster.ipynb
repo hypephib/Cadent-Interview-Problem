{
  "nbformat": 4,
  "nbformat_minor": 0,
  "metadata": {
    "colab": {
      "name": "Titanic: Machine Learning from Disaster.ipynb",
      "provenance": [],
      "collapsed_sections": []
    },
    "kernelspec": {
      "name": "python3",
      "display_name": "Python 3"
    },
    "accelerator": "GPU"
  },
  "cells": [
    {
      "cell_type": "markdown",
      "metadata": {
        "id": "jq5cEkd9EPVR",
        "colab_type": "text"
      },
      "source": [
        "# **Data Science Intern Python Assignment - Phivian Phun**\n",
        "This python notebook builds a predictive model on Titanic Data. \\\n",
        "Public Git Repository: https://github.com/hypephib/Cadent-Interview-Problem \\\n",
        "Run this on Colab with Python 3 and GPU as an acelerator. "
      ]
    },
    {
      "cell_type": "markdown",
      "metadata": {
        "id": "rO1Nsv9GrrVO",
        "colab_type": "text"
      },
      "source": [
        "## Downloading Dataset from Kaggle\n",
        "I downloaded data from Kaggle commands using my tokens. \\\n",
        "You can find more information about the data here: https://www.kaggle.com/c/titanic/data"
      ]
    },
    {
      "cell_type": "code",
      "metadata": {
        "id": "Viqi7T1Ds2QT",
        "colab_type": "code",
        "colab": {}
      },
      "source": [
        "!pip install -q kaggle"
      ],
      "execution_count": 0,
      "outputs": []
    },
    {
      "cell_type": "code",
      "metadata": {
        "id": "B1Gy2Mxbsvwu",
        "colab_type": "code",
        "colab": {}
      },
      "source": [
        "!mkdir -p ~/.kaggle"
      ],
      "execution_count": 0,
      "outputs": []
    },
    {
      "cell_type": "code",
      "metadata": {
        "id": "sFtpsUg1smCt",
        "colab_type": "code",
        "colab": {}
      },
      "source": [
        "import json\n",
        "token = {\"username\":\"phivianphun\",\"key\":\"6288f9cfc09c8e64e63005ff90707f59\"}\n",
        "with open('kaggle.json', 'w') as file:\n",
        "  json.dump(token, file)"
      ],
      "execution_count": 0,
      "outputs": []
    },
    {
      "cell_type": "code",
      "metadata": {
        "id": "07QB3yDZtoGP",
        "colab_type": "code",
        "outputId": "bc3ba7ee-f283-419a-e553-91f6c4505133",
        "colab": {
          "base_uri": "https://localhost:8080/",
          "height": 33
        }
      },
      "source": [
        "!ls"
      ],
      "execution_count": 4,
      "outputs": [
        {
          "output_type": "stream",
          "text": [
            "kaggle.json  sample_data\n"
          ],
          "name": "stdout"
        }
      ]
    },
    {
      "cell_type": "code",
      "metadata": {
        "id": "h2I4BlJYs81L",
        "colab_type": "code",
        "colab": {}
      },
      "source": [
        "!cp kaggle.json ~/.kaggle/kaggle.json"
      ],
      "execution_count": 0,
      "outputs": []
    },
    {
      "cell_type": "code",
      "metadata": {
        "id": "aVzlF7its_Pq",
        "colab_type": "code",
        "outputId": "bdc92504-259b-477e-9ad4-6cae1d0667db",
        "colab": {
          "base_uri": "https://localhost:8080/",
          "height": 221
        }
      },
      "source": [
        "!kaggle competitions download -c titanic"
      ],
      "execution_count": 6,
      "outputs": [
        {
          "output_type": "stream",
          "text": [
            "Warning: Your Kaggle API key is readable by other users on this system! To fix this, you can run 'chmod 600 /root/.kaggle/kaggle.json'\n",
            "Warning: Looks like you're using an outdated API Version, please consider updating (server 1.5.6 / client 1.5.4)\n",
            "Downloading train.csv to /content\n",
            "  0% 0.00/59.8k [00:00<?, ?B/s]\n",
            "100% 59.8k/59.8k [00:00<00:00, 51.3MB/s]\n",
            "Downloading test.csv to /content\n",
            "  0% 0.00/28.0k [00:00<?, ?B/s]\n",
            "100% 28.0k/28.0k [00:00<00:00, 24.3MB/s]\n",
            "Downloading gender_submission.csv to /content\n",
            "  0% 0.00/3.18k [00:00<?, ?B/s]\n",
            "100% 3.18k/3.18k [00:00<00:00, 3.27MB/s]\n"
          ],
          "name": "stdout"
        }
      ]
    },
    {
      "cell_type": "markdown",
      "metadata": {
        "id": "zVjor2YnieAH",
        "colab_type": "text"
      },
      "source": [
        "## Install Dependencies"
      ]
    },
    {
      "cell_type": "code",
      "metadata": {
        "id": "qWEN5U7nig9a",
        "colab_type": "code",
        "outputId": "fadedac9-401b-48a0-e106-a97a10b2a0b0",
        "colab": {
          "base_uri": "https://localhost:8080/",
          "height": 104
        }
      },
      "source": [
        "!pip install -U scikit-learn"
      ],
      "execution_count": 7,
      "outputs": [
        {
          "output_type": "stream",
          "text": [
            "Requirement already up-to-date: scikit-learn in /usr/local/lib/python3.6/dist-packages (0.22.2.post1)\n",
            "Requirement already satisfied, skipping upgrade: numpy>=1.11.0 in /usr/local/lib/python3.6/dist-packages (from scikit-learn) (1.18.2)\n",
            "Requirement already satisfied, skipping upgrade: joblib>=0.11 in /usr/local/lib/python3.6/dist-packages (from scikit-learn) (0.14.1)\n",
            "Requirement already satisfied, skipping upgrade: scipy>=0.17.0 in /usr/local/lib/python3.6/dist-packages (from scikit-learn) (1.4.1)\n"
          ],
          "name": "stdout"
        }
      ]
    },
    {
      "cell_type": "markdown",
      "metadata": {
        "id": "GblWOUoZDNu5",
        "colab_type": "text"
      },
      "source": [
        "## Preprocessing: Feature Extraction\n",
        "\n",
        "Implementing feature extraction with a little bit of a twist. Used basic extractions from this tutorial: https://triangleinequality.wordpress.com/2013/09/08/basic-feature-engineering-with-the-titanic-data/\n"
      ]
    },
    {
      "cell_type": "code",
      "metadata": {
        "id": "-W4OkWPFD9o9",
        "colab_type": "code",
        "outputId": "dedf8974-42a0-432c-97c7-d48ef53242bd",
        "colab": {
          "base_uri": "https://localhost:8080/",
          "height": 246
        }
      },
      "source": [
        "import numpy as np\n",
        "import pandas as pd \n",
        "import matplotlib.pyplot as plt\n",
        "import seaborn as sns\n",
        "import collections \n",
        "\n",
        "train = pd.read_csv(\"train.csv\")\n",
        "test = pd.read_csv(\"test.csv\")\n",
        "\n",
        "train.head()"
      ],
      "execution_count": 8,
      "outputs": [
        {
          "output_type": "execute_result",
          "data": {
            "text/html": [
              "<div>\n",
              "<style scoped>\n",
              "    .dataframe tbody tr th:only-of-type {\n",
              "        vertical-align: middle;\n",
              "    }\n",
              "\n",
              "    .dataframe tbody tr th {\n",
              "        vertical-align: top;\n",
              "    }\n",
              "\n",
              "    .dataframe thead th {\n",
              "        text-align: right;\n",
              "    }\n",
              "</style>\n",
              "<table border=\"1\" class=\"dataframe\">\n",
              "  <thead>\n",
              "    <tr style=\"text-align: right;\">\n",
              "      <th></th>\n",
              "      <th>PassengerId</th>\n",
              "      <th>Survived</th>\n",
              "      <th>Pclass</th>\n",
              "      <th>Name</th>\n",
              "      <th>Sex</th>\n",
              "      <th>Age</th>\n",
              "      <th>SibSp</th>\n",
              "      <th>Parch</th>\n",
              "      <th>Ticket</th>\n",
              "      <th>Fare</th>\n",
              "      <th>Cabin</th>\n",
              "      <th>Embarked</th>\n",
              "    </tr>\n",
              "  </thead>\n",
              "  <tbody>\n",
              "    <tr>\n",
              "      <th>0</th>\n",
              "      <td>1</td>\n",
              "      <td>0</td>\n",
              "      <td>3</td>\n",
              "      <td>Braund, Mr. Owen Harris</td>\n",
              "      <td>male</td>\n",
              "      <td>22.0</td>\n",
              "      <td>1</td>\n",
              "      <td>0</td>\n",
              "      <td>A/5 21171</td>\n",
              "      <td>7.2500</td>\n",
              "      <td>NaN</td>\n",
              "      <td>S</td>\n",
              "    </tr>\n",
              "    <tr>\n",
              "      <th>1</th>\n",
              "      <td>2</td>\n",
              "      <td>1</td>\n",
              "      <td>1</td>\n",
              "      <td>Cumings, Mrs. John Bradley (Florence Briggs Th...</td>\n",
              "      <td>female</td>\n",
              "      <td>38.0</td>\n",
              "      <td>1</td>\n",
              "      <td>0</td>\n",
              "      <td>PC 17599</td>\n",
              "      <td>71.2833</td>\n",
              "      <td>C85</td>\n",
              "      <td>C</td>\n",
              "    </tr>\n",
              "    <tr>\n",
              "      <th>2</th>\n",
              "      <td>3</td>\n",
              "      <td>1</td>\n",
              "      <td>3</td>\n",
              "      <td>Heikkinen, Miss. Laina</td>\n",
              "      <td>female</td>\n",
              "      <td>26.0</td>\n",
              "      <td>0</td>\n",
              "      <td>0</td>\n",
              "      <td>STON/O2. 3101282</td>\n",
              "      <td>7.9250</td>\n",
              "      <td>NaN</td>\n",
              "      <td>S</td>\n",
              "    </tr>\n",
              "    <tr>\n",
              "      <th>3</th>\n",
              "      <td>4</td>\n",
              "      <td>1</td>\n",
              "      <td>1</td>\n",
              "      <td>Futrelle, Mrs. Jacques Heath (Lily May Peel)</td>\n",
              "      <td>female</td>\n",
              "      <td>35.0</td>\n",
              "      <td>1</td>\n",
              "      <td>0</td>\n",
              "      <td>113803</td>\n",
              "      <td>53.1000</td>\n",
              "      <td>C123</td>\n",
              "      <td>S</td>\n",
              "    </tr>\n",
              "    <tr>\n",
              "      <th>4</th>\n",
              "      <td>5</td>\n",
              "      <td>0</td>\n",
              "      <td>3</td>\n",
              "      <td>Allen, Mr. William Henry</td>\n",
              "      <td>male</td>\n",
              "      <td>35.0</td>\n",
              "      <td>0</td>\n",
              "      <td>0</td>\n",
              "      <td>373450</td>\n",
              "      <td>8.0500</td>\n",
              "      <td>NaN</td>\n",
              "      <td>S</td>\n",
              "    </tr>\n",
              "  </tbody>\n",
              "</table>\n",
              "</div>"
            ],
            "text/plain": [
              "   PassengerId  Survived  Pclass  ...     Fare Cabin  Embarked\n",
              "0            1         0       3  ...   7.2500   NaN         S\n",
              "1            2         1       1  ...  71.2833   C85         C\n",
              "2            3         1       3  ...   7.9250   NaN         S\n",
              "3            4         1       1  ...  53.1000  C123         S\n",
              "4            5         0       3  ...   8.0500   NaN         S\n",
              "\n",
              "[5 rows x 12 columns]"
            ]
          },
          "metadata": {
            "tags": []
          },
          "execution_count": 8
        }
      ]
    },
    {
      "cell_type": "markdown",
      "metadata": {
        "id": "b7JZAD72-5OY",
        "colab_type": "text"
      },
      "source": [
        "## Visualization"
      ]
    },
    {
      "cell_type": "code",
      "metadata": {
        "id": "prkKyM8L--Dq",
        "colab_type": "code",
        "outputId": "770e824e-7c05-4d4b-ad41-19fd0cd2b77c",
        "colab": {
          "base_uri": "https://localhost:8080/",
          "height": 312
        }
      },
      "source": [
        "fig, axes = plt.subplots(1, 2,figsize=(10, 4))\n",
        "female = train[train['Sex']=='female']\n",
        "male = train[train['Sex']=='male']\n",
        "\n",
        "ax = sns.distplot(female[female['Survived']==1].Age.dropna(), bins=\"auto\", label = \"survived\", ax = axes[0], kde =False)\n",
        "ax = sns.distplot(female[female['Survived']==0].Age.dropna(), bins=\"auto\", label = \"dead\", ax = axes[0], kde =False)\n",
        "ax.legend()\n",
        "ax.set_title('Female')\n",
        "\n",
        "ax = sns.distplot(male[male['Survived']==1].Age.dropna(), bins=\"auto\", label = \"survived\", ax = axes[1], kde = False)\n",
        "ax = sns.distplot(male[male['Survived']==0].Age.dropna(), bins=\"auto\", label = \"dead\", ax = axes[1], kde = False)\n",
        "ax.legend()\n",
        "ax.set_title('Male')"
      ],
      "execution_count": 9,
      "outputs": [
        {
          "output_type": "execute_result",
          "data": {
            "text/plain": [
              "Text(0.5, 1.0, 'Male')"
            ]
          },
          "metadata": {
            "tags": []
          },
          "execution_count": 9
        },
        {
          "output_type": "display_data",
          "data": {
            "image/png": "[encoded data removed]",
            "text/plain": [
              "<Figure size 720x288 with 2 Axes>"
            ]
          },
          "metadata": {
            "tags": []
          }
        }
      ]
    },
    {
      "cell_type": "markdown",
      "metadata": {
        "id": "UP3yJtgQAWE6",
        "colab_type": "text"
      },
      "source": [
        "Based on this visualization, females are more likely to survive than males, especially young adults. "
      ]
    },
    {
      "cell_type": "code",
      "metadata": {
        "id": "jVvh39JtC-Fa",
        "colab_type": "code",
        "outputId": "57d24787-88ec-41ee-9b52-c983f23f7fa3",
        "colab": {
          "base_uri": "https://localhost:8080/",
          "height": 296
        }
      },
      "source": [
        "sns.barplot(x='Pclass', y='Survived', data=train)"
      ],
      "execution_count": 10,
      "outputs": [
        {
          "output_type": "execute_result",
          "data": {
            "text/plain": [
              "<matplotlib.axes._subplots.AxesSubplot at 0x7ff5965da240>"
            ]
          },
          "metadata": {
            "tags": []
          },
          "execution_count": 10
        },
        {
          "output_type": "display_data",
          "data": {
            "image/png": "[encoded data removed]",
            "text/plain": [
              "<Figure size 432x288 with 1 Axes>"
            ]
          },
          "metadata": {
            "tags": []
          }
        }
      ]
    },
    {
      "cell_type": "code",
      "metadata": {
        "id": "RFycEnbkDAjx",
        "colab_type": "code",
        "outputId": "ea940926-192a-449c-cb6d-34b45a2333ee",
        "colab": {
          "base_uri": "https://localhost:8080/",
          "height": 296
        }
      },
      "source": [
        "sns.barplot(x='Embarked', y='Survived', data=train)"
      ],
      "execution_count": 11,
      "outputs": [
        {
          "output_type": "execute_result",
          "data": {
            "text/plain": [
              "<matplotlib.axes._subplots.AxesSubplot at 0x7ff58a94d898>"
            ]
          },
          "metadata": {
            "tags": []
          },
          "execution_count": 11
        },
        {
          "output_type": "display_data",
          "data": {
            "image/png": "[encoded data removed]",
            "text/plain": [
              "<Figure size 432x288 with 1 Axes>"
            ]
          },
          "metadata": {
            "tags": []
          }
        }
      ]
    },
    {
      "cell_type": "markdown",
      "metadata": {
        "id": "NuFZ36mrdXpp",
        "colab_type": "text"
      },
      "source": [
        "There more survivors from the 1st class and embarked from Cherbourg. "
      ]
    },
    {
      "cell_type": "markdown",
      "metadata": {
        "id": "po8AvUXrHKbL",
        "colab_type": "text"
      },
      "source": [
        "### Whole Dataset: Feature Extraction\n"
      ]
    },
    {
      "cell_type": "code",
      "metadata": {
        "id": "HWjRbZe-mZru",
        "colab_type": "code",
        "outputId": "2a542df2-34f5-43a9-a518-786c755ceb77",
        "colab": {
          "base_uri": "https://localhost:8080/",
          "height": 67
        }
      },
      "source": [
        "# Expand \"Name\" column into readable data \n",
        "# Format: Last Name, Title First Name Middle Name\n",
        "# If female, Format: Husband's Last Name Mrs. Husband's First Name Husbands Last Name (Maiden Full Name)\n",
        "\n",
        "titles = train[\"Name\"].str.split(\", \", n = 1, expand = True)[1]\n",
        "titles = titles.str.split(\".\", n = 1, expand = True)[0]\n",
        "titles.unique()"
      ],
      "execution_count": 12,
      "outputs": [
        {
          "output_type": "execute_result",
          "data": {
            "text/plain": [
              "array(['Mr', 'Mrs', 'Miss', 'Master', 'Don', 'Rev', 'Dr', 'Mme', 'Ms',\n",
              "       'Major', 'Lady', 'Sir', 'Mlle', 'Col', 'Capt', 'the Countess',\n",
              "       'Jonkheer'], dtype=object)"
            ]
          },
          "metadata": {
            "tags": []
          },
          "execution_count": 12
        }
      ]
    },
    {
      "cell_type": "code",
      "metadata": {
        "id": "YYR6G2mLdqhR",
        "colab_type": "code",
        "outputId": "472be0c6-29c6-4785-bdff-fe13b685c860",
        "colab": {
          "base_uri": "https://localhost:8080/",
          "height": 33
        }
      },
      "source": [
        "# List of features with missing values\n",
        "train.columns[train.isnull().any()]"
      ],
      "execution_count": 13,
      "outputs": [
        {
          "output_type": "execute_result",
          "data": {
            "text/plain": [
              "Index(['Age', 'Cabin', 'Embarked'], dtype='object')"
            ]
          },
          "metadata": {
            "tags": []
          },
          "execution_count": 13
        }
      ]
    },
    {
      "cell_type": "code",
      "metadata": {
        "id": "SVpgQ1qPCMxk",
        "colab_type": "code",
        "colab": {}
      },
      "source": [
        " def feature_extraction(df):\n",
        "  # Extract Basic Titles: Mr, Master, Mrs, Miss\n",
        "  # ['Mr', 'Mrs', 'Miss', 'Master', 'Don', 'Rev', 'Dr', 'Mme', 'Ms',\n",
        "      #  'Major', 'Lady', 'Sir', 'Mlle', 'Col', 'Capt', 'the Countess',\n",
        "      #  'Jonkheer']\n",
        "  mrs = [\"the Countess\", \"Lady\", \"Dr\", \"Mme\", \"Dona\"]\n",
        "  miss = [\"Mlle\", \"Ms\"]\n",
        "  mr = [\"Major\", \"Rev\", \"Col\", \"Capt\",\"Don\",\"Jonkheer\", \"Dr\", \"Sir\"]\n",
        "\n",
        "  titles = df[\"Name\"].str.split(\", \", n = 1, expand = True)[1]\n",
        "  titles = titles.str.split(\".\", n = 1, expand = True)[0]\n",
        "  df[\"Title\"] = titles\n",
        "\n",
        "  df.loc[(df.Title.isin(mrs)) & (df.Sex == \"female\"), \"Title\"] = \"Mrs\" \n",
        "  df.loc[df.Title.isin(miss), \"Title\"] = \"Miss\"\n",
        "  df.loc[df.Title.isin(mr), \"Title\"] = \"Mr\"  \n",
        "\n",
        "  # Extract Cabin \n",
        "  df[\"Deck\"] = df[\"Cabin\"].str[0]\n",
        "\n",
        "  # Extract Family Size \n",
        "  df[\"Family_Size\"] = df[\"SibSp\"] + df[\"Parch\"]\n",
        "\n",
        "  # Extract Age*Class\n",
        "  df['Age*Class']=df['Age']*df['Pclass']\n",
        "\n",
        "  # Extract Fare Per Person \n",
        "  df['Fare_Per_Person']=df['Fare']/(df['Family_Size']+1)\n",
        "  \n",
        "  # Missing Categories \n",
        "  df[\"Deck\"].fillna(\"Unknown\", inplace=True)\n",
        "  df[\"Embarked\"].fillna(\"Unknown\", inplace=True)\n",
        "  return df\n",
        "\n",
        "def drop_columns(df):\n",
        "  return df.drop(columns=[\"Name\", \"Ticket\", \"Cabin\", \"PassengerId\"])\n"
      ],
      "execution_count": 0,
      "outputs": []
    },
    {
      "cell_type": "code",
      "metadata": {
        "id": "kM4gNqu7St7D",
        "colab_type": "code",
        "outputId": "285aa541-7178-4a75-d0c8-1a3728ecf3a8",
        "colab": {
          "base_uri": "https://localhost:8080/",
          "height": 251
        }
      },
      "source": [
        "clean_train = feature_extraction(train)\n",
        "clean_train = drop_columns(clean_train)\n",
        "clean_train = pd.get_dummies(clean_train)\n",
        "\n",
        "\n",
        "clean_test = feature_extraction(test)\n",
        "clean_test = drop_columns(clean_test)\n",
        "clean_test = pd.get_dummies(clean_test)\n",
        "\n",
        "columns = list(clean_train.columns)\n",
        "columns.remove(\"Survived\")\n",
        "\n",
        "for x in columns:\n",
        "  if x not in clean_test.columns:\n",
        "    clean_test[x] = 0\n",
        "\n",
        "difference = set(columns) - set(clean_test.columns)\n",
        "if len(difference) > 0:\n",
        "  print(\"Training and Test set DO NOT MATCH!\")\n",
        "  print(difference)\n",
        "\n",
        "print(clean_train.shape)\n",
        "print(clean_train.columns)\n",
        "print(clean_test.shape)\n",
        "print(clean_test.columns)"
      ],
      "execution_count": 15,
      "outputs": [
        {
          "output_type": "stream",
          "text": [
            "(891, 28)\n",
            "Index(['Survived', 'Pclass', 'Age', 'SibSp', 'Parch', 'Fare', 'Family_Size',\n",
            "       'Age*Class', 'Fare_Per_Person', 'Sex_female', 'Sex_male', 'Embarked_C',\n",
            "       'Embarked_Q', 'Embarked_S', 'Embarked_Unknown', 'Title_Master',\n",
            "       'Title_Miss', 'Title_Mr', 'Title_Mrs', 'Deck_A', 'Deck_B', 'Deck_C',\n",
            "       'Deck_D', 'Deck_E', 'Deck_F', 'Deck_G', 'Deck_T', 'Deck_Unknown'],\n",
            "      dtype='object')\n",
            "(418, 27)\n",
            "Index(['Pclass', 'Age', 'SibSp', 'Parch', 'Fare', 'Family_Size', 'Age*Class',\n",
            "       'Fare_Per_Person', 'Sex_female', 'Sex_male', 'Embarked_C', 'Embarked_Q',\n",
            "       'Embarked_S', 'Title_Master', 'Title_Miss', 'Title_Mr', 'Title_Mrs',\n",
            "       'Deck_A', 'Deck_B', 'Deck_C', 'Deck_D', 'Deck_E', 'Deck_F', 'Deck_G',\n",
            "       'Deck_Unknown', 'Embarked_Unknown', 'Deck_T'],\n",
            "      dtype='object')\n"
          ],
          "name": "stdout"
        }
      ]
    },
    {
      "cell_type": "markdown",
      "metadata": {
        "id": "6jcQCKZSi3Y6",
        "colab_type": "text"
      },
      "source": [
        "## Pipeline: Preprocessing, Hyperparameter Tuning, Model Evaluation\n",
        "Let's compare some existing models and algorithms from Scikit Learn.\n",
        "\n",
        "* Logistic Regression\n",
        "* KNN\n",
        "* Decision Trees\n",
        "* Random Forest \n",
        "* SVM\n",
        "\n"
      ]
    },
    {
      "cell_type": "code",
      "metadata": {
        "id": "nPG4cNEUZe6S",
        "colab_type": "code",
        "colab": {}
      },
      "source": [
        "from sklearn.model_selection import train_test_split, cross_val_score\n",
        "from sklearn.pipeline import make_pipeline\n",
        "from sklearn.preprocessing import StandardScaler\n",
        "from sklearn.impute import SimpleImputer\n",
        "from sklearn.model_selection import GridSearchCV\n",
        "\n",
        "#Split dataset to target and features\n",
        "y = clean_train[\"Survived\"]\n",
        "X = clean_train.drop(columns=[\"Survived\"])\n",
        "\n",
        "#Since we only have ground truth from training, \n",
        "#Let's split the training data into training and testing \n",
        "X_train, X_test, y_train, y_test = train_test_split(X, y, random_state=0)\n",
        "\n",
        "#Median Imputation is needed for Age missing data "
      ],
      "execution_count": 0,
      "outputs": []
    },
    {
      "cell_type": "markdown",
      "metadata": {
        "id": "UXzES_3mseS4",
        "colab_type": "text"
      },
      "source": [
        "Logistic Regression"
      ]
    },
    {
      "cell_type": "code",
      "metadata": {
        "id": "b_7wrqs0sYWe",
        "colab_type": "code",
        "outputId": "b4e9b85e-37ef-438e-8f80-f6834eeab752",
        "colab": {
          "base_uri": "https://localhost:8080/",
          "height": 33
        }
      },
      "source": [
        "from sklearn.linear_model import LogisticRegression\n",
        "pipe = make_pipeline(SimpleImputer(strategy='median'),\n",
        "                          StandardScaler(),\n",
        "                          LogisticRegression())\n",
        "scores = cross_val_score(pipe, X, y, cv=10)\n",
        "np.mean(scores)"
      ],
      "execution_count": 17,
      "outputs": [
        {
          "output_type": "execute_result",
          "data": {
            "text/plain": [
              "0.8316853932584269"
            ]
          },
          "metadata": {
            "tags": []
          },
          "execution_count": 17
        }
      ]
    },
    {
      "cell_type": "markdown",
      "metadata": {
        "id": "ls_QCEdu3rdx",
        "colab_type": "text"
      },
      "source": [
        "KNN Classifier"
      ]
    },
    {
      "cell_type": "code",
      "metadata": {
        "id": "NTPjLry1kjjJ",
        "colab_type": "code",
        "outputId": "e53a9adf-e8ac-4d1d-bfe7-17e1c218a4cf",
        "colab": {
          "base_uri": "https://localhost:8080/",
          "height": 33
        }
      },
      "source": [
        "from sklearn.neighbors import KNeighborsClassifier\n",
        "pipe = make_pipeline(SimpleImputer(strategy='median'),\n",
        "                          StandardScaler(),\n",
        "                          KNeighborsClassifier())\n",
        "param_grid = {'kneighborsclassifier__n_neighbors': range(1, 10)}\n",
        "grid = GridSearchCV(pipe, param_grid, cv=10)\n",
        "grid.fit(X_train, y_train)\n",
        "grid.best_params_"
      ],
      "execution_count": 18,
      "outputs": [
        {
          "output_type": "execute_result",
          "data": {
            "text/plain": [
              "{'kneighborsclassifier__n_neighbors': 9}"
            ]
          },
          "metadata": {
            "tags": []
          },
          "execution_count": 18
        }
      ]
    },
    {
      "cell_type": "code",
      "metadata": {
        "id": "7tvzZiK1-Fmk",
        "colab_type": "code",
        "outputId": "066627fb-0b3b-4b74-c46e-8f2039bff726",
        "colab": {
          "base_uri": "https://localhost:8080/",
          "height": 33
        }
      },
      "source": [
        "grid.score(X_test, y_test)"
      ],
      "execution_count": 19,
      "outputs": [
        {
          "output_type": "execute_result",
          "data": {
            "text/plain": [
              "0.8026905829596412"
            ]
          },
          "metadata": {
            "tags": []
          },
          "execution_count": 19
        }
      ]
    },
    {
      "cell_type": "markdown",
      "metadata": {
        "id": "ha8Nr4Cj-WG-",
        "colab_type": "text"
      },
      "source": [
        "Decision Tree Classifier"
      ]
    },
    {
      "cell_type": "code",
      "metadata": {
        "id": "3zFiHVkm-YUf",
        "colab_type": "code",
        "outputId": "cb6bbbf0-eebc-4894-8ca7-0bfad3a70bb3",
        "colab": {
          "base_uri": "https://localhost:8080/",
          "height": 33
        }
      },
      "source": [
        "from sklearn.tree import DecisionTreeClassifier\n",
        "pipe = make_pipeline(SimpleImputer(strategy='median'),\n",
        "                          DecisionTreeClassifier())\n",
        "scores = cross_val_score(pipe, X, y, cv=10)\n",
        "np.mean(scores)"
      ],
      "execution_count": 20,
      "outputs": [
        {
          "output_type": "execute_result",
          "data": {
            "text/plain": [
              "0.7991635455680399"
            ]
          },
          "metadata": {
            "tags": []
          },
          "execution_count": 20
        }
      ]
    },
    {
      "cell_type": "markdown",
      "metadata": {
        "id": "AIJ2XOEMBYC4",
        "colab_type": "text"
      },
      "source": [
        "With Cost Complexity Pruning"
      ]
    },
    {
      "cell_type": "code",
      "metadata": {
        "id": "_6M5jatuAmnT",
        "colab_type": "code",
        "outputId": "10bbc811-8bba-4529-d8be-02d813a169f4",
        "colab": {
          "base_uri": "https://localhost:8080/",
          "height": 33
        }
      },
      "source": [
        "pipe = make_pipeline(SimpleImputer(strategy='median'),\n",
        "                          DecisionTreeClassifier())\n",
        "param_grid = {'decisiontreeclassifier__ccp_alpha': np.linspace(0., 0.03, 20)}\n",
        "grid = GridSearchCV(pipe,\n",
        "                    param_grid=param_grid, cv=10)\n",
        "grid.fit(X_train, y_train)\n",
        "grid.best_params_"
      ],
      "execution_count": 21,
      "outputs": [
        {
          "output_type": "execute_result",
          "data": {
            "text/plain": [
              "{'decisiontreeclassifier__ccp_alpha': 0.01894736842105263}"
            ]
          },
          "metadata": {
            "tags": []
          },
          "execution_count": 21
        }
      ]
    },
    {
      "cell_type": "code",
      "metadata": {
        "id": "sTCLQIGEBUPa",
        "colab_type": "code",
        "outputId": "93da56f4-c7cb-4d06-e6ae-4f39470b2ee1",
        "colab": {
          "base_uri": "https://localhost:8080/",
          "height": 33
        }
      },
      "source": [
        "grid.score(X_test, y_test)"
      ],
      "execution_count": 32,
      "outputs": [
        {
          "output_type": "execute_result",
          "data": {
            "text/plain": [
              "0.8071748878923767"
            ]
          },
          "metadata": {
            "tags": []
          },
          "execution_count": 32
        }
      ]
    },
    {
      "cell_type": "markdown",
      "metadata": {
        "id": "npjQCGLxAFnN",
        "colab_type": "text"
      },
      "source": [
        "Random Forests "
      ]
    },
    {
      "cell_type": "code",
      "metadata": {
        "id": "ZknLWkKvGmZF",
        "colab_type": "code",
        "outputId": "2811da50-ae3a-4996-bce0-12ba0d7d8979",
        "colab": {
          "base_uri": "https://localhost:8080/",
          "height": 33
        }
      },
      "source": [
        "from sklearn.ensemble import RandomForestClassifier \n",
        "\n",
        "pipe = make_pipeline(SimpleImputer(strategy='median'),\n",
        "                          RandomForestClassifier(warm_start=True))\n",
        "param_grid = {'randomforestclassifier__n_estimators': range(1, 100, 5)}\n",
        "grid = GridSearchCV(pipe,\n",
        "                    param_grid=param_grid, cv=10)\n",
        "grid.fit(X_train, y_train)\n",
        "grid.best_params_"
      ],
      "execution_count": 23,
      "outputs": [
        {
          "output_type": "execute_result",
          "data": {
            "text/plain": [
              "{'randomforestclassifier__n_estimators': 16}"
            ]
          },
          "metadata": {
            "tags": []
          },
          "execution_count": 23
        }
      ]
    },
    {
      "cell_type": "code",
      "metadata": {
        "id": "kbG4YjBPHA8M",
        "colab_type": "code",
        "outputId": "6d3ba2d3-50de-4e84-c3c6-f5f60e384dd9",
        "colab": {
          "base_uri": "https://localhost:8080/",
          "height": 33
        }
      },
      "source": [
        "grid.score(X_test, y_test)"
      ],
      "execution_count": 24,
      "outputs": [
        {
          "output_type": "execute_result",
          "data": {
            "text/plain": [
              "0.8161434977578476"
            ]
          },
          "metadata": {
            "tags": []
          },
          "execution_count": 24
        }
      ]
    },
    {
      "cell_type": "markdown",
      "metadata": {
        "id": "Lv6KA1zkAOAg",
        "colab_type": "text"
      },
      "source": [
        "Support Vector Machine"
      ]
    },
    {
      "cell_type": "code",
      "metadata": {
        "id": "EId7NgaBJ4kz",
        "colab_type": "code",
        "outputId": "4cdeb23a-9686-4f91-808e-6a8596a29638",
        "colab": {
          "base_uri": "https://localhost:8080/",
          "height": 33
        }
      },
      "source": [
        "from sklearn.svm import SVC\n",
        "pipe = make_pipeline(SimpleImputer(strategy='median'),\n",
        "                      StandardScaler(),\n",
        "                      SVC())\n",
        "param_grid = {'svc__C': np.logspace(-3, 2, 6),\n",
        "              'svc__gamma': np.logspace(-3, 2, 6) / X_train.shape[0]}\n",
        "grid = GridSearchCV(pipe, param_grid=param_grid, cv=10)\n",
        "grid.fit(X_train, y_train)\n",
        "grid.best_params_"
      ],
      "execution_count": 25,
      "outputs": [
        {
          "output_type": "execute_result",
          "data": {
            "text/plain": [
              "{'svc__C': 100.0, 'svc__gamma': 0.0014970059880239522}"
            ]
          },
          "metadata": {
            "tags": []
          },
          "execution_count": 25
        }
      ]
    },
    {
      "cell_type": "code",
      "metadata": {
        "id": "vjDAb1enWyuC",
        "colab_type": "code",
        "outputId": "fcd965a8-7020-478c-ed5e-f991f3cfe887",
        "colab": {
          "base_uri": "https://localhost:8080/",
          "height": 33
        }
      },
      "source": [
        "grid.score(X_test, y_test)"
      ],
      "execution_count": 26,
      "outputs": [
        {
          "output_type": "execute_result",
          "data": {
            "text/plain": [
              "0.8071748878923767"
            ]
          },
          "metadata": {
            "tags": []
          },
          "execution_count": 26
        }
      ]
    },
    {
      "cell_type": "markdown",
      "metadata": {
        "colab_type": "text",
        "id": "9ncRT96Dh0GC"
      },
      "source": [
        "All models seem to perform pretty well around 80% on average cross validation score. But Random Forests performed the best with 84% on a good day. It is inconsistent with its results so let's analyze both Logistic Regression and Random Forests.  "
      ]
    },
    {
      "cell_type": "markdown",
      "metadata": {
        "id": "xcL-RlwQZFiQ",
        "colab_type": "text"
      },
      "source": [
        "## Prediction with Logistic Regression\n",
        "\n"
      ]
    },
    {
      "cell_type": "code",
      "metadata": {
        "id": "QDK0aA01ZJIS",
        "colab_type": "code",
        "outputId": "7d584136-4298-49c7-ef22-908cdf3173c7",
        "colab": {
          "base_uri": "https://localhost:8080/",
          "height": 33
        }
      },
      "source": [
        "log_pipe = make_pipeline(SimpleImputer(strategy='median'),\n",
        "                          StandardScaler(),\n",
        "                          LogisticRegression())\n",
        "log_pipe.fit(X,y)\n",
        "predictions = log_pipe.predict(clean_test)\n",
        "log_submission = pd.DataFrame({'PassengerId': test['PassengerId'], 'Survived': predictions})\n",
        "log_submission[log_submission['Survived'] == 1].shape[0]"
      ],
      "execution_count": 27,
      "outputs": [
        {
          "output_type": "execute_result",
          "data": {
            "text/plain": [
              "170"
            ]
          },
          "metadata": {
            "tags": []
          },
          "execution_count": 27
        }
      ]
    },
    {
      "cell_type": "markdown",
      "metadata": {
        "id": "HwXe_hzIIuJq",
        "colab_type": "text"
      },
      "source": [
        "## Prediction with Random Forest"
      ]
    },
    {
      "cell_type": "code",
      "metadata": {
        "id": "Mba9EPoZJ_ls",
        "colab_type": "code",
        "colab": {
          "base_uri": "https://localhost:8080/",
          "height": 33
        },
        "outputId": "00f4a125-d159-43a2-c26b-a9fde4e2305d"
      },
      "source": [
        "randforest_pipe = make_pipeline(SimpleImputer(strategy='median'),\n",
        "                          RandomForestClassifier(warm_start=True))\n",
        "param_grid = {'randomforestclassifier__n_estimators': range(1, 100, 5)}\n",
        "randforest_grid = GridSearchCV(randforest_pipe,\n",
        "                    param_grid=param_grid, cv=10)\n",
        "randforest_grid.fit(X_train, y_train)\n",
        "predictions = randforest_grid.predict(clean_test)\n",
        "\n",
        "randforest_submission = pd.DataFrame({'PassengerId': test['PassengerId'], 'Survived': predictions})\n",
        "randforest_submission[randforest_submission['Survived'] == 1].shape[0]"
      ],
      "execution_count": 28,
      "outputs": [
        {
          "output_type": "execute_result",
          "data": {
            "text/plain": [
              "317"
            ]
          },
          "metadata": {
            "tags": []
          },
          "execution_count": 28
        }
      ]
    },
    {
      "cell_type": "code",
      "metadata": {
        "id": "tfum25KlMu5E",
        "colab_type": "code",
        "colab": {
          "base_uri": "https://localhost:8080/",
          "height": 33
        },
        "outputId": "6c8735ce-d88c-4738-b3b5-b4e031c9123b"
      },
      "source": [
        "log_passengers_survived = log_submission[log_submission['Survived'] == 1 ]['PassengerId']\n",
        "randforest_passengers_survived = randforest_submission[randforest_submission['Survived'] == 1]['PassengerId']\n",
        "\n",
        "list(log_passengers_survived) == list(randforest_passengers_survived)"
      ],
      "execution_count": 29,
      "outputs": [
        {
          "output_type": "execute_result",
          "data": {
            "text/plain": [
              "False"
            ]
          },
          "metadata": {
            "tags": []
          },
          "execution_count": 29
        }
      ]
    },
    {
      "cell_type": "markdown",
      "metadata": {
        "id": "9X_-WXWNcmWA",
        "colab_type": "text"
      },
      "source": [
        "## Evaluation "
      ]
    },
    {
      "cell_type": "code",
      "metadata": {
        "id": "eGvdnAPXbI7r",
        "colab_type": "code",
        "colab": {
          "base_uri": "https://localhost:8080/",
          "height": 295
        },
        "outputId": "e8b8ca4c-d593-43df-8a72-6c84131e44fd"
      },
      "source": [
        "from sklearn.metrics import roc_curve\n",
        "log_pipe = make_pipeline(SimpleImputer(strategy='median'),\n",
        "                          StandardScaler(),\n",
        "                          LogisticRegression())\n",
        "log_pipe.fit(X_train,y_train)\n",
        "y_pred_rt = log_pipe.predict_proba(X_test)[:, 1]\n",
        "fpr_rt_lm, tpr_rt_lm, _ = roc_curve(y_test, y_pred_rt)\n",
        "\n",
        "y_pred_rf = randforest_grid.predict_proba(X_test)[:, 1]\n",
        "fpr_rf, tpr_rf, _ = roc_curve(y_test, y_pred_rf)\n",
        "\n",
        "\n",
        "plt.plot(fpr_rt_lm, tpr_rt_lm, label='Logistic Regression')\n",
        "plt.plot(fpr_rf, tpr_rf, label='Random Forest')\n",
        "\n",
        "plt.xlabel('False positive rate')\n",
        "plt.ylabel('True positive rate')\n",
        "plt.title('ROC curve')\n",
        "plt.legend(loc='best')\n",
        "plt.show()"
      ],
      "execution_count": 30,
      "outputs": [
        {
          "output_type": "display_data",
          "data": {
            "image/png": "[encoded data removed]",
            "text/plain": [
              "<Figure size 432x288 with 1 Axes>"
            ]
          },
          "metadata": {
            "tags": []
          }
        }
      ]
    },
    {
      "cell_type": "code",
      "metadata": {
        "id": "AgYrRlrlQQvC",
        "colab_type": "code",
        "colab": {}
      },
      "source": [
        "randforest_submission.to_csv(\"submission.csv\")"
      ],
      "execution_count": 0,
      "outputs": []
    }
  ]
}