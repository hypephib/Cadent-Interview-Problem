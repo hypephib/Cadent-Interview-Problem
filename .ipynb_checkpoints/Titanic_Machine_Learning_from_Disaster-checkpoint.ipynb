{
 "cells": [
  {
   "cell_type": "markdown",
   "metadata": {
    "colab_type": "text",
    "id": "rO1Nsv9GrrVO"
   },
   "source": [
    "## Downloading Dataset from Kaggle"
   ]
  },
  {
   "cell_type": "code",
   "execution_count": 0,
   "metadata": {
    "colab": {},
    "colab_type": "code",
    "id": "Viqi7T1Ds2QT"
   },
   "outputs": [],
   "source": [
    "!pip install -q kaggle"
   ]
  },
  {
   "cell_type": "code",
   "execution_count": 0,
   "metadata": {
    "colab": {},
    "colab_type": "code",
    "id": "B1Gy2Mxbsvwu"
   },
   "outputs": [],
   "source": [
    "!mkdir -p ~/.kaggle"
   ]
  },
  {
   "cell_type": "code",
   "execution_count": 0,
   "metadata": {
    "colab": {},
    "colab_type": "code",
    "id": "sFtpsUg1smCt"
   },
   "outputs": [],
   "source": [
    "import json\n",
    "token = {\"username\":\"phivianphun\",\"key\":\"6288f9cfc09c8e64e63005ff90707f59\"}\n",
    "with open('kaggle.json', 'w') as file:\n",
    "  json.dump(token, file)"
   ]
  },
  {
   "cell_type": "code",
   "execution_count": 0,
   "metadata": {
    "colab": {
     "base_uri": "https://localhost:8080/",
     "height": 33
    },
    "colab_type": "code",
    "id": "07QB3yDZtoGP",
    "outputId": "6acaa225-d965-489b-a37f-d4cc8408359d"
   },
   "outputs": [
    {
     "name": "stdout",
     "output_type": "stream",
     "text": [
      "kaggle.json  sample_data\n"
     ]
    }
   ],
   "source": [
    "!ls"
   ]
  },
  {
   "cell_type": "code",
   "execution_count": 0,
   "metadata": {
    "colab": {},
    "colab_type": "code",
    "id": "h2I4BlJYs81L"
   },
   "outputs": [],
   "source": [
    "!cp kaggle.json ~/.kaggle/kaggle.json"
   ]
  },
  {
   "cell_type": "code",
   "execution_count": 0,
   "metadata": {
    "colab": {
     "base_uri": "https://localhost:8080/",
     "height": 221
    },
    "colab_type": "code",
    "id": "aVzlF7its_Pq",
    "outputId": "d6aeeda2-a86d-422d-c236-99fe2a590213"
   },
   "outputs": [
    {
     "name": "stdout",
     "output_type": "stream",
     "text": [
      "Warning: Your Kaggle API key is readable by other users on this system! To fix this, you can run 'chmod 600 /root/.kaggle/kaggle.json'\n",
      "Warning: Looks like you're using an outdated API Version, please consider updating (server 1.5.6 / client 1.5.4)\n",
      "Downloading sampleSubmission.csv to /content\n",
      "  0% 0.00/583k [00:00<?, ?B/s]\n",
      "100% 583k/583k [00:00<00:00, 85.4MB/s]\n",
      "Downloading train.tsv.zip to /content\n",
      "  0% 0.00/1.28M [00:00<?, ?B/s]\n",
      "100% 1.28M/1.28M [00:00<00:00, 76.6MB/s]\n",
      "Downloading test.tsv.zip to /content\n",
      "  0% 0.00/494k [00:00<?, ?B/s]\n",
      "100% 494k/494k [00:00<00:00, 69.2MB/s]\n"
     ]
    }
   ],
   "source": [
    "!kaggle competitions download -c sentiment-analysis-on-movie-reviews"
   ]
  }
 ],
 "metadata": {
  "accelerator": "GPU",
  "colab": {
   "name": "Titanic: Machine Learning from Disaster.ipynb",
   "provenance": []
  },
  "kernelspec": {
   "display_name": "Python 3",
   "language": "python",
   "name": "python3"
  },
  "language_info": {
   "codemirror_mode": {
    "name": "ipython",
    "version": 3
   },
   "file_extension": ".py",
   "mimetype": "text/x-python",
   "name": "python",
   "nbconvert_exporter": "python",
   "pygments_lexer": "ipython3",
   "version": "3.7.1"
  }
 },
 "nbformat": 4,
 "nbformat_minor": 1
}
